{
 "cells": [
  {
   "cell_type": "markdown",
   "metadata": {},
   "source": [
    "# Data transformation from EDF to numpy\n",
    "This notebook should only be used as a complementary script to files at https://github.com/VlastaKoudelka/NUDZ-HYSCAN/tree/main/group and also interactive_annotations.py. The interactive annotations is in separate file because jupyter notebook does not save the annotated data.\n",
    "\n",
    "A function of this notebook is to load an EEG data in the EDF format, extract data for specific conditions (Trust game and stare paradigm) and save them as a numpy data for further analysis. After processing the data with this script, processing with prepare_permutations.ipynb and graph_analysis.ipynb could be applied. "
   ]
  },
  {
   "cell_type": "markdown",
   "metadata": {},
   "source": [
    "## Load libraries\n"
   ]
  },
  {
   "cell_type": "code",
   "execution_count": null,
   "metadata": {},
   "outputs": [],
   "source": [
    "\n",
    "import mne\n",
    "import numpy as np\n",
    "import matplotlib.pyplot as plt\n",
    "%matplotlib qt #without this interactive plotting does not work"
   ]
  },
  {
   "cell_type": "markdown",
   "metadata": {},
   "source": [
    "## Load the data\n",
    "\n",
    "This cell loads data and events that were manualy annotated with an interactive_annotations.py\n",
    "\n",
    "At first, you need to process the data of Stare paradigm in order to have a baseline for comparison with a Trust game conditions (This is a just a temporari solution)\n"
   ]
  },
  {
   "cell_type": "code",
   "execution_count": null,
   "metadata": {},
   "outputs": [],
   "source": [
    "subj_n = 1\n",
    "\n",
    "folder_pth = {'baseline_folder': 'C:/FEL/ING/diplomka/data/baseline_stare/kamdu/',\n",
    "       'trust_game_folder': 'C:/FEL/ING/diplomka/data/TG/kamdu/'\n",
    "}\n",
    "\n",
    "file_tags = {'baseline': 'HYSCAN_GD_JS_2024-12-09_13-12-25_Segment_0',\n",
    "             'trust_game': 'HYSCAN_GD_JS_2024-12-09_13-24-23_Segment_0',\n",
    "\n",
    "}\n",
    "\n",
    "# Load the data\n",
    "\n",
    "raw_data = mne.io.read_raw_fif(folder_pth['baseline_folder']+file_tags['baseline'] + '_bad_annot.fif', preload = True)\n",
    "events, event_id = mne.events_from_annotations(raw_data)\n",
    "\n",
    "## Check the annotated data if necesary\n",
    "\n",
    "# raw_data.plot()\n",
    "# plt.show()\n"
   ]
  },
  {
   "cell_type": "markdown",
   "metadata": {},
   "source": [
    "## Assign id's of the TG events\n",
    "\n",
    "Each event has a specific indicator (an integer). In the cell below Trust game events are extracted"
   ]
  },
  {
   "cell_type": "code",
   "execution_count": null,
   "metadata": {},
   "outputs": [],
   "source": [
    "\n",
    "tg_event_list = ['CueInv','ExStart','RepCue','SendInv','SendRep','ShowInv','ShowRep','ShowTot']\n",
    "tg_events = {}\n",
    "\n",
    "for true_idx, true_ev in enumerate(tg_event_list):\n",
    "        \n",
    "    for ev_idx, ev_val in enumerate(event_id):\n",
    "        if true_ev in ev_val:\n",
    "            tg_events[true_ev] = event_id[ev_val]"
   ]
  },
  {
   "cell_type": "markdown",
   "metadata": {},
   "source": [
    "## Assign id's of the baseline events\n",
    "\n",
    "Same as above but for baseline\n",
    "\n"
   ]
  },
  {
   "cell_type": "code",
   "execution_count": null,
   "metadata": {},
   "outputs": [],
   "source": [
    "\n",
    "baseline_event_list = ['Cross', 'Stare']\n",
    "baseline_events = {}\n",
    "\n",
    "\n",
    "for true_idx, true_ev in enumerate(baseline_event_list):\n",
    "        \n",
    "    for ev_idx, ev_val in enumerate(event_id):\n",
    "        if true_ev in ev_val:\n",
    "            baseline_events[true_ev] = event_id[ev_val]\n",
    "\n",
    "\n",
    "## These lines are for just to know the timing of wanted conditions\n",
    "## RepCue - ShowInv = (89925-80551)/fs\n",
    "##  ShowTot - ShowRep = (111002 - 101502) / fs\n",
    "\n",
    "# fs = raw_data.info['sfreq']\n",
    "# condA_delay = (89925 - 80551) / fs - 5 # four seconds behind RepCue\n",
    "# condB_delay = (111002 - 101502) / fs - 5 #four seconds behind ShowTot \n",
    "\n"
   ]
  },
  {
   "cell_type": "markdown",
   "metadata": {},
   "source": [
    "## Filtering\n",
    "\n",
    "Choose a specific frequency band for filtering. Optionaly you could also filter a power noise (50 Hz) and its harmonics"
   ]
  },
  {
   "cell_type": "code",
   "execution_count": null,
   "metadata": {},
   "outputs": [],
   "source": [
    "\n",
    "# bandFreqs = [[1,4],[1,8],[8,12],[12,35],[35,45]]\n",
    "# bandLabls = ['Delta','Theta','Alpha','Beta','Gamma']\n",
    "\n",
    "\n",
    "power_freqs = np.linspace(50, 500, 10)\n",
    "bandFreqs = [8,12]\n",
    "\n",
    "## Notch filter is an optional step\n",
    "# notch_filt = raw_data.copy().notch_filter(freqs = power_freqs)\n",
    "\n",
    "baseline_alpha_filt = raw_data.copy().filter(bandFreqs[0],bandFreqs[1], fir_design='firwin')\n"
   ]
  },
  {
   "cell_type": "markdown",
   "metadata": {},
   "source": [
    "## Get the data of interest\n",
    "\n",
    "In this secntion you could choose the data for specific condition. The extracted files should be renamed in a format cxgy.npz, where x is a condition numbering and y is a group number.\n",
    "\n",
    "Example: In order to get Trust game results computed with scripts prepare_permutations.ipynb and graph_analysis.ipyng you would need to save the baseline data from Stare experiment (sections with a cross) as c0g0.npz and trust game data from conditions 'RepCue' and 'ShowTot' as c1g0.npz and c2g0.npz.\n",
    "\n",
    "Epoched TG data"
   ]
  },
  {
   "cell_type": "code",
   "execution_count": null,
   "metadata": {},
   "outputs": [
    {
     "name": "stdout",
     "output_type": "stream",
     "text": [
      "Not setting metadata\n"
     ]
    },
    {
     "name": "stdout",
     "output_type": "stream",
     "text": [
      "15 matching events found\n",
      "No baseline correction applied\n",
      "0 projection items activated\n",
      "Using data from preloaded Raw for 15 events and 4097 original time points ...\n",
      "2 bad epochs dropped\n",
      "Not setting metadata\n",
      "15 matching events found\n",
      "No baseline correction applied\n",
      "0 projection items activated\n",
      "Using data from preloaded Raw for 15 events and 4097 original time points ...\n",
      "1 bad epochs dropped\n"
     ]
    }
   ],
   "source": [
    "tmin = -4\n",
    "tmax = 0\n",
    "TG_condA = make_dyad_array(baseline_alpha_filt, tg_events['RepCue'], tmin, tmax)\n",
    "TG_condB = make_dyad_array(baseline_alpha_filt, tg_events['ShowTot'], tmin, tmax)\n",
    "\n",
    "np.savez(folder_pth['trust_game_folder'] + 'epoched_TG_ShIn_ReCu', TG_condA)\n",
    "np.savez(folder_pth['trust_game_folder'] + 'epoched_TG_ShRep_ShTot', TG_condB)\n",
    "\n"
   ]
  },
  {
   "cell_type": "markdown",
   "metadata": {},
   "source": [
    "Epoched baseline data"
   ]
  },
  {
   "cell_type": "code",
   "execution_count": null,
   "metadata": {},
   "outputs": [
    {
     "name": "stdout",
     "output_type": "stream",
     "text": [
      "Not setting metadata\n",
      "51 matching events found\n",
      "No baseline correction applied\n",
      "0 projection items activated\n",
      "Using data from preloaded Raw for 51 events and 4097 original time points ...\n",
      "0 bad epochs dropped\n"
     ]
    }
   ],
   "source": [
    "Baseline_data = make_dyad_array(baseline_alpha_filt, baseline_events['Cross'], tmin, tmax)\n",
    "np.savez(folder_pth['baseline_folder'] + 'epoched_cross', Baseline_data)"
   ]
  },
  {
   "cell_type": "markdown",
   "metadata": {},
   "source": [
    "## Functions"
   ]
  },
  {
   "cell_type": "code",
   "execution_count": null,
   "metadata": {},
   "outputs": [],
   "source": [
    "def make_dyad_array(data, event, tmin, tmax):\n",
    "    #This function creates an epochs for both subjects, then concatenates them to one matrix and converts to numpy array\n",
    "    epoched_data = mne.Epochs(data, events, event_id=event, tmin=tmin, tmax=tmax, preload=True, baseline = None, reject_by_annotation=True)\n",
    "    return epoched_data.get_data()"
   ]
  }
 ],
 "metadata": {
  "kernelspec": {
   "display_name": "Python 3",
   "language": "python",
   "name": "python3"
  },
  "language_info": {
   "codemirror_mode": {
    "name": "ipython",
    "version": 3
   },
   "file_extension": ".py",
   "mimetype": "text/x-python",
   "name": "python",
   "nbconvert_exporter": "python",
   "pygments_lexer": "ipython3",
   "version": "3.10.0"
  }
 },
 "nbformat": 4,
 "nbformat_minor": 2
}
