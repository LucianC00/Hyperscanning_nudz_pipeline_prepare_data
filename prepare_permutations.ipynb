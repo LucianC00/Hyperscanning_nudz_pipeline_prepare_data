{
 "cells": [
  {
   "cell_type": "markdown",
   "id": "5cb73aa8-398c-4eeb-8cb0-96ad7e7e1096",
   "metadata": {},
   "source": [
    "## Compute permutations\n",
    "\n",
    "This script reads the epoched data already imported from BVA, resampled, preprocessed and merged across subjects\n",
    "and compute the both surrogate distribution of connectivity matrices and the true connectivity matrix.\n",
    "\n",
    "No orthogonalization is used for surrogate distribution (which drastically increases the speed) because the signals are \n",
    "randomly shifted in time with respect to each other during each iteration\n",
    "\n",
    "### Parameters to consider:\n",
    "    numPerm = 500 - a number of permutations\n",
    "    shiftEpch = 20 - a max number of epochs shift (measured in epochs, the overlap is not taken into acount)\n",
    "\n",
    "### Inputs:\n",
    "    pipePath  - path to a pipe folder containing epoch data\n",
    "    fileName  - name of the epoch data (condition specific)\n",
    "    \n",
    "### Outputs:\n",
    "    corrMat - the data correlation matrix (lower triangle)\n",
    "    corrMatSurr - surrogate distribution of correlation matrices"
   ]
  },
  {
   "cell_type": "markdown",
   "id": "0b07c62c-e154-4316-a00c-95d91d1e41ce",
   "metadata": {},
   "source": [
    "### Define a working directory and load data\n",
    "- define a number of conditions nC\n",
    "- define a number of groups nG"
   ]
  },
  {
   "cell_type": "code",
   "execution_count": 8,
   "id": "366b8e74-bd88-4ef7-a7f7-a3b6230a9566",
   "metadata": {},
   "outputs": [
    {
     "name": "stdout",
     "output_type": "stream",
     "text": [
      "nEpochs: 13 nChan: 128 nSamp: 4097\n"
     ]
    }
   ],
   "source": [
    "import numpy as np\n",
    "\n",
    "def init_list(dims, val):\n",
    "    if len(dims) == 0:\n",
    "        raise ValueError(\"Requires at least 1 dimension.\")\n",
    "    if len(dims) == 1:\n",
    "        return [val for _ in range(dims[0])]\n",
    "    return [init_list(dims[1:], val=val) for _ in range(dims[0])]\n",
    "\n",
    "\n",
    "#Load the data:\n",
    "pipePath = 'C:/FEL/ING/diplomka/data/TG/kamdu/'\n",
    "nC = 3\n",
    "nG = 1\n",
    "# stare = 1, cross =0\n",
    "epochData = init_list((nC,nG),val=0)\n",
    "\n",
    "for cIdx in range(0,nC):\n",
    "    for gIdx in range(0,nG):\n",
    "        epochData[cIdx][gIdx] = np.load(pipePath + 'c' + str(cIdx) + 'g' + str(gIdx) + '.npz')[\"arr_0\"] \n",
    "        \n",
    "\n",
    "nEpoch, nChan, nSamp = epochData[1][0].shape\n",
    "print('nEpochs: ' + str(nEpoch) + ' nChan: ' + str(nChan) + ' nSamp: ' + str(nSamp))"
   ]
  },
  {
   "cell_type": "code",
   "execution_count": null,
   "id": "0ad54de4",
   "metadata": {},
   "outputs": [
    {
     "name": "stdout",
     "output_type": "stream",
     "text": [
      "[[[ 1.75797674e-05  1.92835537e-05  2.09252218e-05 ...  8.68613007e-06\n",
      "    8.53789387e-06  8.36566973e-06]\n",
      "  [ 1.40786886e-05  1.55648933e-05  1.70017386e-05 ...  9.89082912e-06\n",
      "    9.72402248e-06  9.52875255e-06]\n",
      "  [ 2.04162885e-05  2.21100869e-05  2.37304677e-05 ...  1.05638725e-05\n",
      "    1.03721810e-05  1.01494756e-05]\n",
      "  ...\n",
      "  [-1.10031326e-06 -1.19179652e-06 -1.28084199e-06 ...  1.23263611e-06\n",
      "    1.10724097e-06  9.77989050e-07]\n",
      "  [-2.26703366e-06 -2.33587724e-06 -2.39592617e-06 ...  2.35285711e-06\n",
      "    2.32490137e-06  2.29005291e-06]\n",
      "  [-2.16911172e-06 -2.20508933e-06 -2.23288937e-06 ...  3.77957846e-07\n",
      "    2.89598880e-07  1.99815892e-07]]\n",
      "\n",
      " [[-7.12438738e-07 -1.35597485e-07  4.39344311e-07 ...  3.50799889e-06\n",
      "    3.05920662e-06  2.58876909e-06]\n",
      "  [-5.12501175e-07 -2.18024139e-08  4.63914631e-07 ...  3.09241001e-06\n",
      "    2.68797030e-06  2.26656823e-06]\n",
      "  [-1.27420463e-06 -7.33857973e-07 -1.98336772e-07 ...  2.45498123e-06\n",
      "    1.90125191e-06  1.33212883e-06]\n",
      "  ...\n",
      "  [ 1.56703045e-06  1.79272415e-06  2.01210695e-06 ... -2.04678617e-06\n",
      "   -2.00444617e-06 -1.95969213e-06]\n",
      "  [-1.09930490e-06 -9.77211233e-07 -8.47347720e-07 ... -2.67332432e-06\n",
      "   -2.56540263e-06 -2.45057345e-06]\n",
      "  [ 1.59034629e-06  1.81335092e-06  2.03288217e-06 ... -2.47544818e-06\n",
      "   -2.28372881e-06 -2.08900681e-06]]\n",
      "\n",
      " [[-9.74582106e-06 -8.66587237e-06 -7.55316727e-06 ... -6.30362378e-07\n",
      "   -5.31535765e-07 -4.28329920e-07]\n",
      "  [-1.08859148e-05 -9.78273573e-06 -8.64217008e-06 ... -3.07174019e-06\n",
      "   -2.96753236e-06 -2.85093320e-06]\n",
      "  [-1.15941312e-05 -1.04410039e-05 -9.24871143e-06 ... -5.25158288e-06\n",
      "   -5.15917269e-06 -5.04685642e-06]\n",
      "  ...\n",
      "  [-1.47949557e-07 -2.84539365e-07 -4.16785595e-07 ... -7.36307716e-07\n",
      "   -5.04313305e-07 -2.75204107e-07]\n",
      "  [-3.44007628e-06 -3.67748821e-06 -3.89706166e-06 ... -3.55805614e-06\n",
      "   -3.00471981e-06 -2.44758853e-06]\n",
      "  [-2.58005696e-06 -2.82513108e-06 -3.05403390e-06 ... -2.37180204e-06\n",
      "   -2.06687439e-06 -1.75993352e-06]]\n",
      "\n",
      " ...\n",
      "\n",
      " [[ 1.31510342e-05  1.27928607e-05  1.24005222e-05 ... -8.61918935e-07\n",
      "   -6.98150056e-07 -5.31031654e-07]\n",
      "  [ 1.02552188e-05  9.86071070e-06  9.43648453e-06 ... -1.25058049e-06\n",
      "   -1.01201969e-06 -7.70094086e-07]\n",
      "  [ 1.16403694e-05  1.11452249e-05  1.06122190e-05 ... -8.38747654e-07\n",
      "   -6.55174358e-07 -4.71087151e-07]\n",
      "  ...\n",
      "  [-6.81794305e-08 -2.34011995e-07 -3.97900968e-07 ...  9.01038269e-07\n",
      "    9.76098458e-07  1.05169353e-06]\n",
      "  [-1.21373564e-06 -1.34340846e-06 -1.46743312e-06 ...  5.92503278e-07\n",
      "    6.15190611e-07  6.41321884e-07]\n",
      "  [-2.07951790e-06 -2.22068134e-06 -2.35167956e-06 ...  2.48659511e-06\n",
      "    2.44486206e-06  2.40009987e-06]]\n",
      "\n",
      " [[-2.72624605e-06 -2.49108289e-06 -2.24953640e-06 ...  4.12970212e-07\n",
      "    6.03525211e-07  8.02472055e-07]\n",
      "  [-1.41348357e-06 -1.14617866e-06 -8.76542994e-07 ...  1.27893035e-06\n",
      "    1.49391201e-06  1.71146830e-06]\n",
      "  [-8.14434905e-07 -5.64325278e-07 -3.12466640e-07 ... -3.87739443e-08\n",
      "    3.64664633e-07  7.73022300e-07]\n",
      "  ...\n",
      "  [-1.59420551e-06 -1.56401014e-06 -1.53028694e-06 ...  2.12581719e-06\n",
      "    2.08410470e-06  2.03717096e-06]\n",
      "  [-8.64379468e-07 -8.33290495e-07 -8.01424569e-07 ...  8.38956750e-07\n",
      "    1.06887684e-06  1.29864820e-06]\n",
      "  [-3.24595466e-06 -3.22877410e-06 -3.20418670e-06 ...  2.63648009e-06\n",
      "    2.68045352e-06  2.71787373e-06]]\n",
      "\n",
      " [[ 6.03434138e-06  6.74674580e-06  7.46939106e-06 ...  8.02152359e-06\n",
      "    8.93643780e-06  9.84367978e-06]\n",
      "  [ 4.85781125e-06  5.40230023e-06  5.95655040e-06 ...  7.46707250e-06\n",
      "    8.22791933e-06  8.97876923e-06]\n",
      "  [ 7.43748377e-06  7.97824052e-06  8.52490954e-06 ...  9.10116644e-06\n",
      "    9.96145358e-06  1.08107623e-05]\n",
      "  ...\n",
      "  [-1.29422402e-06 -1.37422795e-06 -1.45366207e-06 ... -1.62540773e-06\n",
      "   -1.53594669e-06 -1.44309267e-06]\n",
      "  [-1.59820049e-06 -1.64395382e-06 -1.67793876e-06 ... -3.47241090e-06\n",
      "   -3.25861361e-06 -3.02723732e-06]\n",
      "  [-2.20280325e-06 -2.22582816e-06 -2.24289150e-06 ... -3.73784761e-06\n",
      "   -3.55200421e-06 -3.35198245e-06]]]\n"
     ]
    }
   ],
   "source": []
  },
  {
   "cell_type": "markdown",
   "id": "f5ce11cc-a065-4a59-8190-07c52b015370",
   "metadata": {},
   "source": [
    "### Exclude or reduce some epochs if needed - skip "
   ]
  },
  {
   "cell_type": "code",
   "execution_count": 21,
   "id": "7a57198a-b18a-43f7-97e9-d9366f33135b",
   "metadata": {},
   "outputs": [
    {
     "data": {
      "text/plain": [
       "(472, 366, 128)"
      ]
     },
     "execution_count": 21,
     "metadata": {},
     "output_type": "execute_result"
    }
   ],
   "source": [
    "decim = 4\n",
    "epochData[0][0] = epochData[0][0][0:-1:decim,:,:]\n",
    "newNEpoch = epochData[0][0].shape\n",
    "newNEpoch"
   ]
  },
  {
   "cell_type": "markdown",
   "id": "663f1adb-5329-4d49-9053-0fd5d2c899c8",
   "metadata": {},
   "source": [
    "### Define functions"
   ]
  },
  {
   "cell_type": "code",
   "execution_count": null,
   "id": "9ffb1aaf-ab53-408a-aba5-5ca04287adde",
   "metadata": {},
   "outputs": [],
   "source": [
    "def pairwise_correlation(A, B):\n",
    "    am = A - np.mean(A, axis=0, keepdims=True)\n",
    "    bm = B - np.mean(B, axis=0, keepdims=True)\n",
    "    return am.T @ bm /  (np.sqrt(\n",
    "        np.sum(am**2, axis=0,\n",
    "               keepdims=True)).T * np.sqrt(\n",
    "        np.sum(bm**2, axis=0, keepdims=True)))\n",
    "\n",
    "def atin_powCorr_compute(epochsData):    \n",
    "    nEpoch, nChan, nSamp = epochsData.shape\n",
    "#prepare two arrays for orthogonalization and correlation\n",
    "    x = np.zeros((nEpoch,nSamp))\n",
    "    y = np.zeros((nEpoch,nSamp))\n",
    "#prepare a nChanXnChan correlation matrix\n",
    "    corrMat = np.zeros((nChan,nChan))\n",
    "    for chan1Idx in range(0,nChan):\n",
    "        for chan2Idx in range(0,chan1Idx):\n",
    "#a pair of two channels and all Epochs\n",
    "            x = epochsData[:,chan1Idx,:]\n",
    "            y = epochsData[:,chan2Idx,:]\n",
    "#across all epochs orthogonalize\n",
    "            x = np.reshape(x, (nEpoch*nSamp,1),order='C')\n",
    "            y = np.reshape(y, (nEpoch*nSamp,1),order='C')\n",
    "#get the regression coeficient from the pseudoinverse\n",
    "            beta = np.real(np.dot(np.linalg.pinv(x),y))\n",
    "            y = y - beta*x\n",
    "#rehape back to the epochXsamples matrix\n",
    "            x = np.reshape(x, (nEpoch,nSamp),order='C')\n",
    "            y = np.reshape(y, (nEpoch,nSamp),order='C')\n",
    "#compute RMS\n",
    "            xRMS = np.power(x,2)\n",
    "            yRMS = np.power(y,2)\n",
    "            xRMS = np.sqrt(np.mean(xRMS,axis=1)) # average over samples\n",
    "            yRMS = np.sqrt(np.mean(yRMS,axis=1))\n",
    "            corrMat[chan1Idx,chan2Idx] = pairwise_correlation(xRMS, yRMS) # for each pair of channels I have one sample for each epoch\n",
    "    return corrMat\n",
    "\n",
    "def atin_powCorr_compute_surr(epochsData):\n",
    "    nEpoch, nChan = epochsData.shape\n",
    "#prepare a nChanXnChan correlation matrix    \n",
    "    corrMat = np.zeros((nChan,nChan))\n",
    "    for chan1Idx in range(0,nChan):\n",
    "        for chan2Idx in range(0,chan1Idx):            \n",
    "#compute RMS\n",
    "            xRMS = epochsData[:,chan1Idx]\n",
    "            yRMS = epochsData[:,chan2Idx]\n",
    "            corrMat[chan1Idx,chan2Idx] = pairwise_correlation(xRMS, yRMS)\n",
    "    return corrMat          "
   ]
  },
  {
   "cell_type": "markdown",
   "id": "c3b9a687-6704-466d-8cf5-91ac58772712",
   "metadata": {},
   "source": [
    "### Compute the observed correlation matrix\n",
    "- consider the lower triangular matrix is computed to save time\n",
    "  "
   ]
  },
  {
   "cell_type": "code",
   "execution_count": 10,
   "id": "7f85cec1-d0e8-4168-9458-8c6aac94ad81",
   "metadata": {},
   "outputs": [
    {
     "name": "stderr",
     "output_type": "stream",
     "text": [
      "C:\\Users\\Martin\\AppData\\Local\\Temp\\ipykernel_19284\\501741627.py:35: DeprecationWarning: Conversion of an array with ndim > 0 to a scalar is deprecated, and will error in future. Ensure you extract a single element from your array before performing this operation. (Deprecated NumPy 1.25.)\n",
      "  corrMat[chan1Idx,chan2Idx] = pairwise_correlation(xRMS, yRMS)\n"
     ]
    }
   ],
   "source": [
    "corrMat = init_list((nC,nG),val=0)\n",
    "for cIdx, condIns in enumerate(epochData):\n",
    "    for gIdx, groupIns in enumerate(condIns):\n",
    "        corrMat[cIdx][gIdx] = atin_powCorr_compute(groupIns)"
   ]
  },
  {
   "cell_type": "markdown",
   "id": "22f85d85-1a1b-47ca-8b1e-67baa9253377",
   "metadata": {},
   "source": [
    "### and save the results..."
   ]
  },
  {
   "cell_type": "code",
   "execution_count": 11,
   "id": "dfe937bd-cd4b-4378-a2d5-1cae899655e8",
   "metadata": {},
   "outputs": [],
   "source": [
    "for cIdx, condIns in enumerate(corrMat):\n",
    "    for gIdx, groupIns in enumerate(condIns):\n",
    "        np.save(pipePath + 'c' + str(cIdx) + 'g' + str(gIdx) + '_observed', groupIns)"
   ]
  },
  {
   "cell_type": "markdown",
   "id": "6677f970-408b-4e04-ae0e-15ed76cf29d7",
   "metadata": {},
   "source": [
    "### Slightly change the correlation matrix computation:\n",
    "- since we do a random circular shifts in time we do not need to orthogonalize\n",
    "- then we can compute RMS within each epoch before itarating across electrode pairs\n",
    "- this will save us a lot of time and this is implemented in the **corrMatSurr** function"
   ]
  },
  {
   "cell_type": "code",
   "execution_count": 13,
   "id": "b5e2b9cd-9165-459a-b568-572d0587d338",
   "metadata": {
    "scrolled": true
   },
   "outputs": [
    {
     "name": "stdout",
     "output_type": "stream",
     "text": [
      "cond: 0 group: 0 permuting...\n"
     ]
    },
    {
     "name": "stderr",
     "output_type": "stream",
     "text": [
      "  0%|          | 0/200 [00:00<?, ?it/s]C:\\Users\\Martin\\AppData\\Local\\Temp\\ipykernel_19284\\501741627.py:47: DeprecationWarning: Conversion of an array with ndim > 0 to a scalar is deprecated, and will error in future. Ensure you extract a single element from your array before performing this operation. (Deprecated NumPy 1.25.)\n",
      "  corrMat[chan1Idx,chan2Idx] = pairwise_correlation(xRMS, yRMS)\n",
      "100%|██████████| 200/200 [01:58<00:00,  1.69it/s]\n"
     ]
    },
    {
     "name": "stdout",
     "output_type": "stream",
     "text": [
      "cond: 1 group: 0 permuting...\n"
     ]
    },
    {
     "name": "stderr",
     "output_type": "stream",
     "text": [
      "100%|██████████| 200/200 [01:59<00:00,  1.67it/s]\n"
     ]
    },
    {
     "name": "stdout",
     "output_type": "stream",
     "text": [
      "cond: 2 group: 0 permuting...\n"
     ]
    },
    {
     "name": "stderr",
     "output_type": "stream",
     "text": [
      "100%|██████████| 200/200 [01:57<00:00,  1.70it/s]\n"
     ]
    }
   ],
   "source": [
    "from tqdm import trange\n",
    "numPerm = 200\n",
    "shiftEpch = 20\n",
    "\n",
    "#prepare RMS (the computationally demanding step)\n",
    "rmsMat = init_list((nC,nG),val=0)\n",
    "for cIdx in range(0,nC):\n",
    "    for gIdx in range(0,nG):\n",
    "        rmsMat[cIdx][gIdx] =  np.sqrt(np.mean(np.power(epochData[cIdx][gIdx],2),2))\n",
    "\n",
    "\n",
    "\n",
    "corrMatSurr = init_list((nC,nG),val=0)\n",
    "\n",
    "for cIdx, condIns in enumerate(rmsMat):\n",
    "    for gIdx, groupIns in enumerate(condIns):\n",
    "        npCorrMat = []\n",
    "        print('cond: ' + str(cIdx) + ' group: ' + str(gIdx) + ' permuting...')\n",
    "        for iterIdx in trange(numPerm):            \n",
    "            epochShift = np.copy(groupIns)\n",
    "            for chanIdx in range(0,nChan): \n",
    "                randShift = np.random.randint(-shiftEpch,shiftEpch,1)\n",
    "                epochShift[:,chanIdx] = np.roll(epochShift[:,chanIdx],randShift,axis=0)\n",
    "            npCorrMat.append(atin_powCorr_compute_surr(epochShift))\n",
    "        corrMatSurr[cIdx][gIdx] = np.array(npCorrMat)\n",
    "\n",
    "for cIdx, condIns in enumerate(corrMatSurr):\n",
    "    for gIdx, groupIns in enumerate(condIns):\n",
    "        np.save(pipePath + 'c' + str(cIdx) + 'g' + str(gIdx) + '_surrogate', groupIns)"
   ]
  },
  {
   "cell_type": "markdown",
   "id": "a403024f-6834-4f0d-8485-0875dacfca37",
   "metadata": {},
   "source": [
    "### and save the results again..."
   ]
  },
  {
   "cell_type": "code",
   "execution_count": 14,
   "id": "5c7e447d-f7bc-48da-b2a7-3a2ac185f75f",
   "metadata": {},
   "outputs": [],
   "source": [
    "for cIdx, condIns in enumerate(corrMatSurr):\n",
    "    for gIdx, groupIns in enumerate(condIns):\n",
    "        np.save(pipePath + 'c' + str(cIdx) + 'g' + str(gIdx) + '_surrogate', groupIns)"
   ]
  }
 ],
 "metadata": {
  "kernelspec": {
   "display_name": "Python 3",
   "language": "python",
   "name": "python3"
  },
  "language_info": {
   "codemirror_mode": {
    "name": "ipython",
    "version": 3
   },
   "file_extension": ".py",
   "mimetype": "text/x-python",
   "name": "python",
   "nbconvert_exporter": "python",
   "pygments_lexer": "ipython3",
   "version": "3.10.0"
  }
 },
 "nbformat": 4,
 "nbformat_minor": 5
}
